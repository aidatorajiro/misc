{
 "cells": [
  {
   "cell_type": "code",
   "execution_count": 63,
   "metadata": {},
   "outputs": [],
   "source": [
    "from sympy import *\n",
    "from IPython.display import display\n",
    "from random import randint\n",
    "\n",
    "init_printing()\n",
    "\n",
    "eqs = []\n",
    "\n",
    "# this constant shows a \"xy-point to a scalar\" mapping.\n",
    "points = [[[randint(1,14)*sqrt(5), randint(1,14)*sqrt(5)], randint(1,14)] for _ in range(4)]\n",
    "\n",
    "coeff_to_component = {}\n",
    "\n",
    "k = 3\n",
    "\n",
    "def ij_to_coeff(i, j):\n",
    "    return Symbol('\\\\beta_{x^%sy^%s}' % (i, j))\n",
    "\n",
    "# construct a \"symbol to sympy formula\" mapping\n",
    "for i in range(k):\n",
    "    for j in range(k):\n",
    "        coeff = ij_to_coeff(i, j)\n",
    "        coeff_to_component[coeff] = (Symbol('x')**i)*(Symbol('y')**j)\n",
    "\n",
    "# construct equations for polynomial fitting\n",
    "for [[x,y],z] in points:\n",
    "    sumval = -z\n",
    "    for i in range(k):\n",
    "        for j in range(k):\n",
    "            coeff = ij_to_coeff(i, j)\n",
    "            sumval += (x**i)*(y**j)*coeff\n",
    "    eqs.append(sumval)"
   ]
  },
  {
   "cell_type": "code",
   "execution_count": 70,
   "metadata": {
    "scrolled": true
   },
   "outputs": [
    {
     "data": {
      "image/png": "[encoded data removed]",
      "text/latex": [
       "$\\displaystyle \\beta_{x^0y^0} + 4 \\sqrt{5} \\beta_{x^0y^1} + 80 \\beta_{x^0y^2} + \\sqrt{5} \\beta_{x^1y^0} + 20 \\beta_{x^1y^1} + 80 \\sqrt{5} \\beta_{x^1y^2} + 5 \\beta_{x^2y^0} + 20 \\sqrt{5} \\beta_{x^2y^1} + 400 \\beta_{x^2y^2} - 1 = 0$"
      ],
      "text/plain": [
       "\\beta_{x__0y__0} + 4⋅√5⋅\\beta_{x__0y__1} + 80⋅\\beta_{x__0y__2} + √5⋅\\beta_{x__\n",
       "1y__0} + 20⋅\\beta_{x__1y__1} + 80⋅√5⋅\\beta_{x__1y__2} + 5⋅\\beta_{x__2y__0} + 2\n",
       "0⋅√5⋅\\beta_{x__2y__1} + 400⋅\\beta_{x__2y__2} - 1 = 0"
      ]
     },
     "metadata": {},
     "output_type": "display_data"
    },
    {
     "data": {
      "image/png": "[encoded data removed]",
      "text/latex": [
       "$\\displaystyle \\beta_{x^0y^0} + 2 \\sqrt{5} \\beta_{x^0y^1} + 20 \\beta_{x^0y^2} + 3 \\sqrt{5} \\beta_{x^1y^0} + 30 \\beta_{x^1y^1} + 60 \\sqrt{5} \\beta_{x^1y^2} + 45 \\beta_{x^2y^0} + 90 \\sqrt{5} \\beta_{x^2y^1} + 900 \\beta_{x^2y^2} - 1 = 0$"
      ],
      "text/plain": [
       "\\beta_{x__0y__0} + 2⋅√5⋅\\beta_{x__0y__1} + 20⋅\\beta_{x__0y__2} + 3⋅√5⋅\\beta_{x\n",
       "__1y__0} + 30⋅\\beta_{x__1y__1} + 60⋅√5⋅\\beta_{x__1y__2} + 45⋅\\beta_{x__2y__0} \n",
       "+ 90⋅√5⋅\\beta_{x__2y__1} + 900⋅\\beta_{x__2y__2} - 1 = 0"
      ]
     },
     "metadata": {},
     "output_type": "display_data"
    },
    {
     "data": {
      "image/png": "[encoded data removed]",
      "text/latex": [
       "$\\displaystyle \\beta_{x^0y^0} + 2 \\sqrt{5} \\beta_{x^0y^1} + 20 \\beta_{x^0y^2} + 2 \\sqrt{5} \\beta_{x^1y^0} + 20 \\beta_{x^1y^1} + 40 \\sqrt{5} \\beta_{x^1y^2} + 20 \\beta_{x^2y^0} + 40 \\sqrt{5} \\beta_{x^2y^1} + 400 \\beta_{x^2y^2} - 11 = 0$"
      ],
      "text/plain": [
       "\\beta_{x__0y__0} + 2⋅√5⋅\\beta_{x__0y__1} + 20⋅\\beta_{x__0y__2} + 2⋅√5⋅\\beta_{x\n",
       "__1y__0} + 20⋅\\beta_{x__1y__1} + 40⋅√5⋅\\beta_{x__1y__2} + 20⋅\\beta_{x__2y__0} \n",
       "+ 40⋅√5⋅\\beta_{x__2y__1} + 400⋅\\beta_{x__2y__2} - 11 = 0"
      ]
     },
     "metadata": {},
     "output_type": "display_data"
    },
    {
     "data": {
      "image/png": "[encoded data removed]",
      "text/latex": [
       "$\\displaystyle \\beta_{x^0y^0} + 11 \\sqrt{5} \\beta_{x^0y^1} + 605 \\beta_{x^0y^2} + 10 \\sqrt{5} \\beta_{x^1y^0} + 550 \\beta_{x^1y^1} + 6050 \\sqrt{5} \\beta_{x^1y^2} + 500 \\beta_{x^2y^0} + 5500 \\sqrt{5} \\beta_{x^2y^1} + 302500 \\beta_{x^2y^2} - 14 = 0$"
      ],
      "text/plain": [
       "\\beta_{x__0y__0} + 11⋅√5⋅\\beta_{x__0y__1} + 605⋅\\beta_{x__0y__2} + 10⋅√5⋅\\beta\n",
       "_{x__1y__0} + 550⋅\\beta_{x__1y__1} + 6050⋅√5⋅\\beta_{x__1y__2} + 500⋅\\beta_{x__\n",
       "2y__0} + 5500⋅√5⋅\\beta_{x__2y__1} + 302500⋅\\beta_{x__2y__2} - 14 = 0"
      ]
     },
     "metadata": {},
     "output_type": "display_data"
    }
   ],
   "source": [
    "# print equations\n",
    "for eq in eqs:\n",
    "    display(Eq(eq, 0))"
   ]
  },
  {
   "cell_type": "code",
   "execution_count": 65,
   "metadata": {},
   "outputs": [],
   "source": [
    "# solve equations\n",
    "solution = solve(eqs)"
   ]
  },
  {
   "cell_type": "code",
   "execution_count": 66,
   "metadata": {},
   "outputs": [
    {
     "data": {
      "image/png": "[encoded data removed]",
      "text/latex": [
       "$\\displaystyle \\beta_{x^0y^2} = - \\frac{9 \\beta_{x^1y^1}}{7} - \\frac{124 \\sqrt{5} \\beta_{x^1y^2}}{7} - \\frac{47 \\beta_{x^2y^0}}{63} - \\frac{985 \\sqrt{5} \\beta_{x^2y^1}}{63} - \\frac{59170 \\beta_{x^2y^2}}{63} + \\frac{173}{315}$"
      ],
      "text/plain": [
       "                     9⋅\\beta_{x__1y__1}   124⋅√5⋅\\beta_{x__1y__2}   47⋅\\beta_{\n",
       "\\beta_{x__0y__2} = - ────────────────── - ─────────────────────── - ──────────\n",
       "                             7                       7                       6\n",
       "\n",
       "x__2y__0}   985⋅√5⋅\\beta_{x__2y__1}   59170⋅\\beta_{x__2y__2}   173\n",
       "───────── - ─────────────────────── - ────────────────────── + ───\n",
       "3                      63                       63             315"
      ]
     },
     "metadata": {},
     "output_type": "display_data"
    },
    {
     "data": {
      "image/png": "[encoded data removed]",
      "text/latex": [
       "$\\displaystyle \\beta_{x^1y^0} = - 2 \\sqrt{5} \\beta_{x^1y^1} - 20 \\beta_{x^1y^2} - 5 \\sqrt{5} \\beta_{x^2y^0} - 50 \\beta_{x^2y^1} - 100 \\sqrt{5} \\beta_{x^2y^2} - 2 \\sqrt{5}$"
      ],
      "text/plain": [
       "\\beta_{x__1y__0} = -2⋅√5⋅\\beta_{x__1y__1} - 20⋅\\beta_{x__1y__2} - 5⋅√5⋅\\beta_{\n",
       "x__2y__0} - 50⋅\\beta_{x__2y__1} - 100⋅√5⋅\\beta_{x__2y__2} - 2⋅√5"
      ]
     },
     "metadata": {},
     "output_type": "display_data"
    },
    {
     "data": {
      "image/png": "[encoded data removed]",
      "text/latex": [
       "$\\displaystyle \\beta_{x^0y^1} = \\frac{47 \\sqrt{5} \\beta_{x^1y^1}}{7} + \\frac{3510 \\beta_{x^1y^2}}{7} + \\frac{73 \\sqrt{5} \\beta_{x^2y^0}}{21} + \\frac{9535 \\beta_{x^2y^1}}{21} + \\frac{117290 \\sqrt{5} \\beta_{x^2y^2}}{21} - \\frac{556 \\sqrt{5}}{105}$"
      ],
      "text/plain": [
       "                   47⋅√5⋅\\beta_{x__1y__1}   3510⋅\\beta_{x__1y__2}   73⋅√5⋅\\bet\n",
       "\\beta_{x__0y__1} = ────────────────────── + ───────────────────── + ──────────\n",
       "                             7                        7                       \n",
       "\n",
       "a_{x__2y__0}   9535⋅\\beta_{x__2y__1}   117290⋅√5⋅\\beta_{x__2y__2}   556⋅√5\n",
       "──────────── + ───────────────────── + ────────────────────────── - ──────\n",
       "21                       21                        21                105  "
      ]
     },
     "metadata": {},
     "output_type": "display_data"
    },
    {
     "data": {
      "image/png": "[encoded data removed]",
      "text/latex": [
       "$\\displaystyle \\beta_{x^0y^0} = - \\frac{290 \\beta_{x^1y^1}}{7} - \\frac{4540 \\sqrt{5} \\beta_{x^1y^2}}{7} + \\frac{640 \\beta_{x^2y^0}}{63} - \\frac{33730 \\sqrt{5} \\beta_{x^2y^1}}{63} - \\frac{2297500 \\beta_{x^2y^2}}{63} + \\frac{4597}{63}$"
      ],
      "text/plain": [
       "                     290⋅\\beta_{x__1y__1}   4540⋅√5⋅\\beta_{x__1y__2}   640⋅\\be\n",
       "\\beta_{x__0y__0} = - ──────────────────── - ──────────────────────── + ───────\n",
       "                              7                        7                      \n",
       "\n",
       "ta_{x__2y__0}   33730⋅√5⋅\\beta_{x__2y__1}   2297500⋅\\beta_{x__2y__2}   4597\n",
       "───────────── - ───────────────────────── - ──────────────────────── + ────\n",
       "  63                        63                         63               63 "
      ]
     },
     "metadata": {},
     "output_type": "display_data"
    }
   ],
   "source": [
    "# print solution\n",
    "\n",
    "for name, value in solution.items():\n",
    "    display(Eq(name, value))"
   ]
  },
  {
   "cell_type": "code",
   "execution_count": 67,
   "metadata": {},
   "outputs": [],
   "source": [
    "# calculate \"x^iy^j -> coefficient\" mapping\n",
    "\n",
    "sol_coeffs = {}\n",
    "for name, value in solution.items():\n",
    "    sol_coeffs[name] = value.subs(zip(coeff_to_component.keys(),[0]*len(coeff_to_component)))"
   ]
  },
  {
   "cell_type": "code",
   "execution_count": 68,
   "metadata": {},
   "outputs": [],
   "source": [
    "# calculate polynomial from \"x^iy^j -> coefficient \" mapping\n",
    "sol_polynomial = 0\n",
    "for name, value in sol_coeffs.items():\n",
    "    sol_polynomial += coeff_to_component[name]*value"
   ]
  },
  {
   "cell_type": "code",
   "execution_count": 69,
   "metadata": {},
   "outputs": [
    {
     "data": {
      "image/png": "[encoded data removed]",
      "text/latex": [
       "$\\displaystyle - 2 \\sqrt{5} x + \\frac{173 y^{2}}{315} - \\frac{556 \\sqrt{5} y}{105} + \\frac{4597}{63}$"
      ],
      "text/plain": [
       "               2                  \n",
       "          173⋅y    556⋅√5⋅y   4597\n",
       "-2⋅√5⋅x + ────── - ──────── + ────\n",
       "           315       105       63 "
      ]
     },
     "metadata": {},
     "output_type": "display_data"
    }
   ],
   "source": [
    "# print calculated polynomial\n",
    "display(sol_polynomial)"
   ]
  },
  {
   "cell_type": "code",
   "execution_count": null,
   "metadata": {},
   "outputs": [],
   "source": []
  }
 ],
 "metadata": {
  "kernelspec": {
   "display_name": "Python 3",
   "language": "python",
   "name": "python3"
  },
  "language_info": {
   "codemirror_mode": {
    "name": "ipython",
    "version": 3
   },
   "file_extension": ".py",
   "mimetype": "text/x-python",
   "name": "python",
   "nbconvert_exporter": "python",
   "pygments_lexer": "ipython3",
   "version": "3.7.7"
  }
 },
 "nbformat": 4,
 "nbformat_minor": 4
}
